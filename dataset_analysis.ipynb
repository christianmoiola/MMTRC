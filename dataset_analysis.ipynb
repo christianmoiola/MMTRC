{
 "cells": [
  {
   "cell_type": "markdown",
   "metadata": {},
   "source": [
    "# Giallo Zafferano Dataset Analysis"
   ]
  },
  {
   "cell_type": "code",
   "execution_count": 1,
   "metadata": {},
   "outputs": [],
   "source": [
    "import json\n",
    "import numpy as np"
   ]
  },
  {
   "cell_type": "markdown",
   "metadata": {},
   "source": [
    "### Loading the dataset"
   ]
  },
  {
   "cell_type": "code",
   "execution_count": 2,
   "metadata": {},
   "outputs": [],
   "source": [
    "def load_dataset(path):\n",
    "    with open(path, 'r') as f:\n",
    "        data = json.load(f)\n",
    "    return data\n",
    "\n",
    "english_N1000 = load_dataset('dataset/english_N1000_2025-02-11.json')\n",
    "italian_from_eng_N1000 = load_dataset('dataset/italian_from_eng_N1000_2025-02-11.json')\n",
    "italian_N50 = load_dataset('dataset/italian_N50_2024-11-29.json')\n",
    "italian_N1000 = load_dataset('dataset/italian_N1000_2025-02-11.json')\n",
    "\n",
    "dataset = {\n",
    "    'english_N1000': english_N1000,\n",
    "    'italian_from_eng_N1000': italian_from_eng_N1000,\n",
    "    'italian_N50': italian_N50,\n",
    "    'italian_N1000': italian_N1000\n",
    "}"
   ]
  },
  {
   "cell_type": "markdown",
   "metadata": {},
   "source": [
    "### Number of recipes in each partiton"
   ]
  },
  {
   "cell_type": "code",
   "execution_count": 3,
   "metadata": {},
   "outputs": [
    {
     "name": "stdout",
     "output_type": "stream",
     "text": [
      "Number of recipes in english_N1000 partition: 671\n",
      "Number of recipes in italian_from_eng_N1000 partition: 686\n",
      "Number of recipes in italian_N50 partition: 32\n",
      "Number of recipes in italian_N1000 partition: 637\n"
     ]
    }
   ],
   "source": [
    "for name, partition in dataset.items():\n",
    "    print(f\"Number of recipes in {name} partition: {len(partition)}\")"
   ]
  },
  {
   "cell_type": "markdown",
   "metadata": {},
   "source": [
    "### Min, Max, Mean and Standard Deviation of steps in each partition"
   ]
  },
  {
   "cell_type": "code",
   "execution_count": 4,
   "metadata": {},
   "outputs": [
    {
     "name": "stdout",
     "output_type": "stream",
     "text": [
      "english_N1000 partition: min: 0, max: 45, mean: 19.466467958271238, std: 6.996592264952894 of steps\n",
      "italian_from_eng_N1000 partition: min: 0, max: 48, mean: 19.513119533527696, std: 7.121333072476808 of steps\n",
      "italian_N50 partition: min: 6, max: 39, mean: 21.0, std: 8.147085368400163 of steps\n",
      "italian_N1000 partition: min: 0, max: 42, mean: 18.970172684458397, std: 7.68803360578713 of steps\n"
     ]
    }
   ],
   "source": [
    "def min_max_mean_std_steps(dataset):\n",
    "    mean_length = np.mean([len(el[\"steps\"]) for el in dataset])\n",
    "    max_length = np.max([len(el[\"steps\"]) for el in dataset])\n",
    "    min_length = np.min([len(el[\"steps\"]) for el in dataset])\n",
    "    standard_deviation = np.std([len(el[\"steps\"]) for el in dataset])\n",
    "    return min_length, max_length, mean_length, standard_deviation\n",
    "\n",
    "for name, partition in dataset.items():\n",
    "    min_length, max_length, mean_length, std_length = min_max_mean_std_steps(partition)\n",
    "    print(f\"{name} partition: min: {min_length}, max: {max_length}, mean: {mean_length}, std: {std_length} of steps\")\n"
   ]
  },
  {
   "cell_type": "markdown",
   "metadata": {},
   "source": [
    "### Number of input examples (Sj+1) (Sj+2) (Sj+5) for each partiton"
   ]
  },
  {
   "cell_type": "code",
   "execution_count": 5,
   "metadata": {},
   "outputs": [
    {
     "name": "stdout",
     "output_type": "stream",
     "text": [
      "english_N1000 partition: sj1: 12392, sj2: 11722, sj5: 9712\n",
      "italian_from_eng_N1000 partition: sj1: 12701, sj2: 12016, sj5: 9961\n",
      "italian_N50 partition: sj1: 640, sj2: 608, sj5: 512\n",
      "italian_N1000 partition: sj1: 11455, sj2: 10826, sj5: 8943\n"
     ]
    }
   ],
   "source": [
    "for name, partition in dataset.items():\n",
    "    sj1 = 0\n",
    "    sj2 = 0\n",
    "    sj5 = 0\n",
    "    for el in partition:\n",
    "        sj1 += len(el[\"steps\"]) - 1 if len(el[\"steps\"]) > 1 else 0\n",
    "        sj2 += len(el[\"steps\"]) - 2 if len(el[\"steps\"]) > 2 else 0\n",
    "        sj5 += len(el[\"steps\"]) - 5 if len(el[\"steps\"]) > 5 else 0\n",
    "    \n",
    "    print(f\"{name} partition: sj1: {sj1}, sj2: {sj2}, sj5: {sj5}\")\n",
    "            "
   ]
  }
 ],
 "metadata": {
  "kernelspec": {
   "display_name": "venv",
   "language": "python",
   "name": "python3"
  },
  "language_info": {
   "codemirror_mode": {
    "name": "ipython",
    "version": 3
   },
   "file_extension": ".py",
   "mimetype": "text/x-python",
   "name": "python",
   "nbconvert_exporter": "python",
   "pygments_lexer": "ipython3",
   "version": "3.9.6"
  }
 },
 "nbformat": 4,
 "nbformat_minor": 2
}
