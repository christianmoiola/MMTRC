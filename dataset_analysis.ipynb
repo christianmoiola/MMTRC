{
 "cells": [
  {
   "cell_type": "markdown",
   "metadata": {},
   "source": [
    "# Dataset Analysis"
   ]
  },
  {
   "cell_type": "code",
   "execution_count": 13,
   "metadata": {},
   "outputs": [],
   "source": [
    "import json\n",
    "import numpy as np"
   ]
  },
  {
   "cell_type": "markdown",
   "metadata": {},
   "source": [
    "### Loading the dataset"
   ]
  },
  {
   "cell_type": "code",
   "execution_count": null,
   "metadata": {},
   "outputs": [],
   "source": [
    "def load_dataset(path):\n",
    "    with open(path, 'r') as f:\n",
    "        data = json.load(f)\n",
    "    return data\n",
    "\n",
    "english_N1000 = load_dataset('dataset/english_N1000_2025-02-11.json')\n",
    "italian_from_eng_N1000 = load_dataset('dataset/italian_from_eng_N1000_2025-02-11.json')\n",
    "italian_N50 = load_dataset('dataset/italian_N50_2024-11-29.json')\n",
    "italian_N1000 = load_dataset('dataset/italian_N1000_2025-02-11.json')\n",
    "\n",
    "dataset = {\n",
    "    'english_N1000': english_N1000,\n",
    "    'italian_from_eng_N1000': italian_from_eng_N1000,\n",
    "    'italian_N50': italian_N50,\n",
    "    'italian_N1000': italian_N1000\n",
    "}"
   ]
  },
  {
   "cell_type": "markdown",
   "metadata": {},
   "source": [
    "### Number of recipes in each partiton"
   ]
  },
  {
   "cell_type": "code",
   "execution_count": null,
   "metadata": {},
   "outputs": [
    {
     "name": "stdout",
     "output_type": "stream",
     "text": [
      "Number of recipes in english_N1000: 671\n",
      "Number of recipes in italian_from_eng_N1000: 686\n",
      "Number of recipes in italian_N50: 32\n",
      "Number of recipes in italian_N1000: 637\n"
     ]
    }
   ],
   "source": [
    "for name, partition in dataset.items():\n",
    "    print(f\"Number of recipes in {name} partition: {len(partition)}\")"
   ]
  },
  {
   "cell_type": "markdown",
   "metadata": {},
   "source": [
    "### Min, Max, Mean and Standard Deviation of steps in each partition"
   ]
  },
  {
   "cell_type": "code",
   "execution_count": null,
   "metadata": {},
   "outputs": [
    {
     "name": "stdout",
     "output_type": "stream",
     "text": [
      "english_N1000 partition: min: 0, max: 45, mean: 19.466467958271238, std: 6.996592264952894 of steps\n",
      "italian_from_eng_N1000 partition: min: 0, max: 48, mean: 19.513119533527696, std: 7.121333072476808 of steps\n",
      "italian_N50 partition: min: 6, max: 39, mean: 21.0, std: 8.147085368400163 of steps\n",
      "italian_N1000 partition: min: 0, max: 42, mean: 18.970172684458397, std: 7.68803360578713 of steps\n"
     ]
    }
   ],
   "source": [
    "def min_max_mean_std_steps(dataset):\n",
    "    mean_length = np.mean([len(el[\"steps\"]) for el in dataset])\n",
    "    max_length = np.max([len(el[\"steps\"]) for el in dataset])\n",
    "    min_length = np.min([len(el[\"steps\"]) for el in dataset])\n",
    "    standard_deviation = np.std([len(el[\"steps\"]) for el in dataset])\n",
    "    return min_length, max_length, mean_length, standard_deviation\n",
    "\n",
    "for name, partition in dataset.items():\n",
    "    min_length, max_length, mean_length, std_length = min_max_mean_std_steps(partition)\n",
    "    print(f\"{name} partition: min: {min_length}, max: {max_length}, mean: {mean_length}, std: {std_length} of steps\")\n"
   ]
  },
  {
   "cell_type": "markdown",
   "metadata": {},
   "source": [
    "### Number of input examples generated (Sj+1)"
   ]
  },
  {
   "cell_type": "code",
   "execution_count": 24,
   "metadata": {},
   "outputs": [
    {
     "name": "stdout",
     "output_type": "stream",
     "text": [
      "Empty steps in english_N1000 partition {'title': 'Soft polenta cake', 'recipe_id': 'Gz_29106', 'raw_text': 'Ingredients for a 24cm mold cups 3 cup Sugar 1 cup Eggs medium 4 cups 1.5 cup Butter 8 tbsp Powdered yeast for sweets 2.5 tsp Lemon peel 1 Fine salt to taste Presentation There are those who prefer polenta in a classic style or concia style, and we should remember that it\\'s not always pure but also a great companion for sausages or beans . Today, however, we present you with the soft polenta cake, a delicious sweet version perfect for breakfast and snacks. Not everyone knows that cornmeal, as strange as it may seem, works wonderfully in non-salty versions, as in this case or when we talked about the Lombard amor polenta or pan meino . In the version we propose today, the cake with cornmeal will be soft and lemon-scented, but its texture will have a rough consistency, thanks to the coarse ground cornmeal. This type of coarse milling flour results in a more rustic finish. Exactly the kind of result we wanted from our soft polenta cake because, after all, as they say in Lombardy, \" la polenta la fa la tàola contenta \" (polenta makes the table happy). Preparation To prepare the soft polenta cake, start by sifting the coarse cornmeal with the baking powder and a pinch of salt in a bowl, mix and set aside. Then melt the butter in a saucepan or microwave and let it cool. Now, place the eggs and grated lemon zest in a bowl, use a whisk to beat while gradually adding the sugar. After about 5 minutes, gradually pour in the previously melted and now cooled butter, and mix everything together. At this point, lower the whisk speed and incorporate the dry mixture one tablespoon at a time, alternating with Greek yogurt. Continue beating until you obtain a smooth and homogeneous batter. Grease a 9.5-inch diameter pan, dust it with cornmeal, and pour in the batter, leveling the surface with the back of a spoon. Transfer to a preheated oven at 340°F for 60 minutes. Check the baking with a toothpick test, and when it\\'s dry, you can remove the cake and let it cool before unmolding; then let it cool on a rack. Your soft polenta cake is ready; it just needs a sprinkle of powdered sugar! Storage The soft polenta cake can be stored in a cool place for 3-4 days. Advice If you want to give your soft polenta cake an extra kick, just add chocolate chips, candied or dried fruit, or even finely chopped nuts. If you prefer a more delicate texture, you can use fioretto cornmeal, or even fumetto if available, instead of the coarse ground cornmeal.', 'steps': []}\n",
      "Empty steps in italian_from_eng_N1000 partition {'title': 'Torta di polenta soffice', 'recipe_id': 'Gz_22554', 'raw_text': 'Ingredienti per uno stampo da 24cm Farina di mais bramata 400 g Zucchero 200 g Uova medie 4 Yogurt greco 0% di grassi 350 g Burro 110 g Lievito in polvere per dolci 12 g Scorza di limone 1 Sale fino q.b. Presentazione C\\'è chi la polenta la preferisce classica \\xa0o\\xa0 concia e ricordiamo che\\xa0non è sempre in purezza ma è anche ottima alleata di\\xa0 salsicce \\xa0o dei fagioli . Oggi però vi parliamo della torta di polenta soffice, una versione dolce squisita e perfetta per la colazione e la merenda. Non tutti sanno infatti che la farina di polenta, per quanto strano possa sembrare, si presta benissimo\\xa0nelle versioni non salate \\xa0come in questo caso o come quando vi abbiamo parlato del varesotto amor polenta \\xa0o del pan meino . Nella versione che vi proponiamo oggi la torta con la farina di mais risulterà soffice e profumata al limone, la sua trama però ha una consistenza ruvida, grazie alla farina di mais bramata. Si tratta di una tipologia di farina a macina grossa che restituisce proprio dei risultati più grezzi. Esattamente il tipo di risultato che volevamo dalla nostra torta di polenta soffice perché in fin dei conti, come dicono in lombardia, la polenta \" la polenta la fa la tàola contenta \" (la polenta fa la tavola contenta). Preparazione Per preparare la torta di polenta soffice iniziamo setacciando in una ciotola la farina di mais bramata insieme al lievito e il pizzico di sale, mescolate e tenete da parte. Poi sciogliete il burro in un pentolino o in microonde e fate intiepidire. Bene, ora versate in una ciotola le uova e la scorza di limone grattugiata, azionate le fruste e montate versando lo zucchero un po\\' alla volta. Dopo 5 minuti circa versate a filo il burro fuso in precedenza e ormai tiepido e amalgamate il tutto. A questo punto abbassate la velocità delle fruste e incorporate il mix di polveri un cucchiaio alla volta alternando con lo yogurt greco. Continuate a lavorare finché avrete ottenuto un composto liscio e omogeneo. Imburrate uno stampo del diametro di 24 cm, spolverizzatelo con la farina di mais e versateci il composto, livellate la superficie con il dorso di un cucchiaio e trasferite in forno già caldo a 170° per 60 minuti. Verificate la cottura facendo la “prova stecchino” e quando sarà asciutto lo stecchino allora potrete estrarre la torta e lasciarla intiepidire prima di sformarla; lasciate poi raffreddare su una gratella. La vostra torta di polenta soffice è pronta manca solo una nevicata di zucchero a velo! Conservazione La torta di polenta soffice si può conservare in un luogo fresco per 3-4 giorni. Consiglio Se volete dare una marcia in più alla vostra torta di polenta soffice basterà aggiungere delle gocce di cioccolato, della frutta candita o disidratata e persino della frutta secca sminuzzata al coltello. Se invece desiderate ottenere una torta più delicata nella sua consistenza basterà usare la farina di mais fioretto, o anche la fumetto se la trovate, invece della bramata.', 'steps': []}\n",
      "Empty steps in italian_N1000 partition {'title': 'Liquore di mirto', 'recipe_id': 'Gz_197', 'raw_text': \"Ingredienti Bacche di mirto 600 g Acqua 1 l Zucchero 600 g Alcol puro a 90° 1 l Presentazione Il liquore di mirto è in Sardegna, sinonimo di liquore tipico tradizionale. Nei ristoranti, a fine pasto, si ordina o viene offerto un liquore di mirto , e in molte case, ancora oggi, questo liquore viene preparato in modo tradizionale. Il sapore e il colore unico del liquore di mirto sono dovuti al frutto della pianta di mirto ( Myrtus communis ), che genera bacche di colore blu violaceo, che rendono unico questo liquore. Se amate i liquori fatti in casa, provate anche queste varianti: Liquore alla menta Liquore al basilico Liquore alla melagrana Meloncello Se invece cercate un digestivo analcolico, il canarino è\\xa0ciò che fa per voi. Preparazione Mettete le bacche di mirto in un recipiente a chiusura ermetica abbastanza grande da contenere sia le bacche che l’alcool. Coprite le bacche di mirto con l’alcool e lasciate riposare il tutto in un posto buio e fresco per almeno 40 giorni, agitando di tanto in tanto il recipiente. Trascorso questo tempo filtrate l’alcool dalle bacche di mirto e dai residui e strizzate delicatamente le bacche con un canovaccio o con della stamina per ricavarne tutti i succhi e le essenze che hanno assorbito. Nel frattempo preparate uno sciroppo facendo bollire l’acqua, e sciogliendovi lo zucchero; una volta ottenuto lo sciroppo, fatelo raffreddare e poi miscelatelo con l’alcool aromatizzato. Filtrate di nuovo il tutto, imbottigliate e lasciate riposare il liquore così ottenuto per almeno un mese, meglio se due, in un luogo fresco. Consiglio E' possibile modificare le quantità di acqua e di zucchero per rendere il liquore di mirto più adatto al vostro gusto, ricordandovi che se si possiede 1 litro di essenza (con alcool a 90°), unendovi 1 litro di sciroppo si dividerà la gradazione volumetrica dell’alcool per due, quindi si otterrà un liquore che avrà una gradazione di 45° circa. Aumentando la quantità di sciroppo, si otterrà quindi, una gradazione minore. In alcune zone della Sardegna il mirto viene preparato sostituendo una parte o tutto lo zucchero con l’equivalente peso di miele (spesso di corbezzolo). Curiosita' Il periodo migliore per fare il liquore di mirto è senza dubbio nel periodo invernale, infatti le bacche di mirto devono essere raccolte quando hanno raggiunto il loro inconfondibile colore nero e non sono ancora diventate troppo dure; ciò avviene da novembre a gennaio in dipendenza del clima e dell’esposizione dei cespugli di mirto.\", 'steps': []}\n",
      "Empty steps in italian_N1000 partition {'title': 'Risotto alla birra con culatello e robiola', 'recipe_id': 'Gz_22484', 'raw_text': 'Ingredienti Riso Carnaroli 320 g Birra Blanche (Weiss) 330 ml Culatello a fette sottili 100 g Robiola 100 g Brodo vegetale 1 l Cipolle rosse 1 Grana Padano DOP (da grattugiare) 50 g Burro 20 g Sale fino q.b. Erba cipollina q.b. Presentazione Si dice che una volta la birra fosse il nettare degli Dei, come mai? Una bevanda alcolica, ma non troppo, con sapori, sentori, profumi e persino consistenze differenti. Una vera poesia per il palato, bisogna solo saper trovare quella preferita dal nostro. E se pensate che la birra possa essere soltanto bevuta e non usata in cucina allora stiamo per stupirvi. La ricetta di oggi infatti è il risotto alla birra con culatello e robiola, un vero tripudio di gusto e consistenza. Formaggio e insaccato stanno bene ma hanno bisogno di una piccola parte acida che sgrassa la bocca e prepara il palato al boccone successivo. Ed ecco che corre in soccorso proprio la birra. In particolare la Weiss, o anche Blanche, che con le sue note fruttate, agrumate e fresche hanno la capacità di ristabilire il palato. Il risotto alla birra con culatello e robiola, ve lo dicevamo, sarà una vera sorpresa. E ora che avete imparato a utilizzare la birra in cucina sarete sicuramente pronti per marinare il tofu o per sorseggiare addirittura uno spritz rivisitato ! Preparazione Per preparare il risotto alla birra con culatello e robiola cominciate mettendo subito in caldo il brodo vegetale . Continuate spellando la cipolla, tritatela al coltello e fatela stufare in una casseruola con il burro: abbiate cura di lasciarla sudare a fiamma bassa così non brucerà. Se necessario, potrete aggiungere qualche cucchiaio di brodo caldo. Appena sarà trasparente, toglietela dalla casseruola e tenetela da parte. Al suo posto versate il riso e fatelo tostare per 30 secondi. Sfumate con la birra e appena sarà evaporata, aggiungete la cipolla e poco brodo alla volta, mescolando, finché avrete portato il riso a cottura aggiustando di sale a piacere. Intanto dedicatevi al culatello. Tagliatelo a listarelle sottili e quando il riso sarà al dente, toglietelo dal fuoco e aggiungete la robiola, il Grana Padano DOP e un cucchiaio di brodo. Coprite con il coperchio e fate riposare per un paio di minuti. Mescolate bene e poi versate nei piatti aggiungendo qualche listarella di culatello e l’erba cipollina tagliuzzata. Ecco pronto il vostro risotto alla birra con culatello e robiola: buon appetito! Conservazione Si consiglia di consumare subito il risotto alla birra con culatello e robiola, eventualmente potrete conservarlo in frigo per un paio di giorni. Consiglio Un tocco gourmet per il vostro risotto alla birra con culatello e robiola? Provate ad aggiungere qualche cubetto di pera fresca!', 'steps': []}\n",
      "Empty steps in italian_N1000 partition {'title': 'Gamberoni saltati con fichi e menta', 'recipe_id': 'Gz_22492', 'raw_text': \"Ingredienti Gamberoni 16 Whisky (Southern Comfort) 0.5 bicchiere Sale fino q.b. Pepe bianco q.b. Tabasco® goccia qualche Menta ciuffetto qualche Fichi 8 Burro 20 g Arance 1 Per impiattare Yogurt greco q.b. Pane carasau q.b. Menta q.b. Presentazione Ascoltanto l'album Pearl della graffiante e calda voce di Janis Joplin e del suo famoso, quanto smodato, amore per il whisky ci è venuta l'ispirazione per la ricetta di oggi. Si tratta dei gamberoni saltati con fichi e menta, un antipasto di fine estate avvolgente e intrigante, proprio come il timbro di voce caldo della cantante. La marinatura nel whisky, preferibilmente il Southern Comfort, quello preferito da Janis, consente ai gamberoni di impregnarsi di preziose note fruttate di arancia e pesca e poi di irresistibili spezie come vaniglia e cannella. Insomma le vostre papille gustative inizieranno davvero a danzare in maniera suadente all'assaggio di questo speciale antipasto. Chiamatelo pure un tributo alla grande cantante dei bellissimi anni '70, ecco a voi la ricetta dei nostri gamberoni saltati con finchi e menta! Preparazione Per prearare i gamberoni saltati con fichi e menta iniziamo dalla pulizia proprio di questi. Basterà staccare dorso, zampe e carapace. Dopodiché incidere superficialmente il dorso e staccare l'intestino (il filo nero) con l'aiuto di uno stuzzicadenti. Mano a mano sistemateli in una ciotola e poi cospargete con il Whisky lasciando marinare per qualche minuto. Scaldate bene una padella antiaderente e cuocete velocemente i gamberi ben sgocciolati. Aggiustate di sale, pepe bianco e qualche goccia di tabasco. Toglieteli dalla padella, aggiungete qualche ciuffetto di menta e lasciateli riposare coperti con il coperchio, così rimarranno morbidi. Nella padella usata per i gamberi invece mettete gli 8 fichi tagliati in quarti e il burro: fate caramellizzare per bene i frutti facendo attenzione a girarli senza rovinarli. Una volta scottati prelavateli dalla padella con delicatezza e teneteli da parte, deglassate il fondo con il succo dell'arancia. Ora potete pensare all’impiattamento che può prendere la strada gourmet. “Sporcate” 4 piatti con un po’ di yogurt greco e disponete in ognuno 4 gamberoni, 8 spicchi di fico, qualche pezzetto di pane carasau (cercando di farli stare “in piedi”) e qualche altro ciuffetto di menta; completate con il fondo dei fichi. Ecco pronti i vostri gamberoni saltati con fichi e menta, buon appetito! Conservazione Una volta pronti i gamberoni saltati con fichi e menta sarebbe meglio consumare subito, in questo modo la consistenza non ne risentirà. Eventualmente potrete conservare per un giorno al massimo in frigorifero. Consiglio Volete evitare l’alcool nella marinatura? Basterà utilizzare un buon olio extravergine di oliva, del succo e la scorza di lime e qualche bacca pestata di pepe nero. Da non sottovalutare poi l’estratto di vaniglia, che può stare bene con i crostacei.\", 'steps': []}\n",
      "Empty steps in italian_N1000 partition {'title': 'Vellutata delle feste', 'recipe_id': 'Gz_22632', 'raw_text': \"Ingredienti Rape rosse 350 g Patate 250 g Zucca delica 250 g Vino rosso di Bordeaux o molto corposo 1 bicchiere foglie 5 foglia Rosmarino 1 rametto Cannella in stecche 1 Zenzero fresco piccola radice 1 Scalogno 4 Olio extravergine d'oliva q.b. Sale fino q.b. Per il crumble Burro 100 g Farina di farro 200 g Castagne precotte 200 g Nocciole 50 g Rosmarino 1 ciuffo Sale fino q.b. Per guarnire Panna acida q.b. Ribes q.b. Rosmarino q.b. Presentazione Chi l'ha detto che il pranzo di Natale debba essere al solito opulento, con svariate portate\\xa0opulente? Per tutti\\xa0i veterani e neofiti della cucina green/veg oggi vi presentiamo la vellutata delle feste. Di cosa si tratta? Un primo piatto molto gustoso grazie alla presenza di importanti ingredienti come zucca, patate e le rape. Un saporito crumble fa da companatico, anziché i soliti crostini.\\xa0 E non dimentichiamo che anche l'occhio vuole la sua parte e noi ci abbiamo pensato. Il rosso delle feste tinge questo splendido zuppa! Siamo sicuri che la vellutata delle feste che vi prenentiamo oggi farà breccia nei vostri cuori... provate per credere! Preparazione Per preparare la vellutata delle feste cominciate legando l'alloro, il rosmarino e la cannella con dello spago da cucina: sarà il nostro mazzetto odoroso. Poi pelate e tagliate a fettine la radice di zenzero, mondate e tagliate finemente gli scalogni e dopo aver pulito le rape, le patate e la zucca tagliatele a tocchi. In una pentola dal fondo spesso scaldate un po' di olio extravergine d’oliva, fate soffriggere gli scalogni e lo zenzero, aggiungete il mazzetto di odori e poi le verdure. Lascia tostare qualche minuto girando spesso, poi sfumate con il vino e lasciate evaporare completamente. Coprite con acqua, aggiustate di sale e cuocete per 30 minuti. A fine cottura eliminate il mazzetto odoroso e con il frullatore ad immersione ottenete una crema liscia. Nel frattempo potete occuparvi del crumble: in una ciotola lavorate velocemente il burro freddo con la farina di farro, le castagne cotte e sbriciolate, le nocciole tritate, un pizzico di sale e un ciuffetto di rosmarino tritato. Ottenete delle briciole grossolane e versate su una teglia, cuocete in forno già caldo a 180° per circa 15 minuti. Quando avrete tutto pronto versate la vellutata nei piatti, guarnite ciascuno con una cucchiaiata di panna acida, il crumble, qualche bacca di ribes e alcuni ciuffetti di rosmarino. Ecco pronta la vostra vellutata delle, buon appetito! Conservazione Potete conservare per un paio di giorni al massimo, tenendo in frigorifero, la vostra vellutata delle feste! Consiglio Se preferite potete realizzare questa ricetta anche in versione vegan! Bastano pochi cambiamenti: impastare il crumble con burro vegetale e sostituire la panna acida con un filo di tahina o di pasta di nocciole.\", 'steps': []}\n",
      "Empty steps in italian_N1000 partition {'title': 'Arrosto al latte caramellato con ananas e mais', 'recipe_id': 'Gz_238', 'raw_text': \"Ingredienti Carrè di maiale 800 g Ananas piccolo fresco 1 cucchiai circa 4 cucchiaio cucchiai circa 4 cucchiaio Burro 60 g foglie 6 foglia Chiodi di garofano 8 Latte 1 l Pepe bianco q.b. Farina 00 q.b. Chicchi di mais giallo in scatola 2 confezioni Presentazione Il carrè di maiale al miele con ananas è un secondo piatto dal gusto esotico dovuto alle spezie, al miele e all’ananas, e dalla carne particolarmente delicata in quanto cotta nel latte. Potrete gustare questa particolare preparazione agro-dolce nelle belle serate estive, assaporando la freschezza dei suoi ingredienti magari in compagnia dei vostri amici! Preparazione Scaldate l’olio e 20 gr di burro in una casseruola, ed unite il carrè di maiale (o lonza) precedentemente legato, steccato con la salvia e i chiodi di garofano ed infarinato(se la carne è abbastanza compatta potete anche non legarlo). Fatelo rosolare per bene su tutti i lati, poi salate, pepate e copritelo con il latte, facendolo cuocere per circa 50 minuti a fuoco basso, rigirandolo di tanto in tanto. Accendete il grill del forno 15 minuti prima della fine della cottura della carne. A cottura avvenuta, mettete a scolare il carrè di maiale su di una griglia, e successivamente spalmatelo con il miele e rotolatelo poi nello zucchero di canna, facendo aderire quest’ultimo omogeneamente alla carne. Mettete il carrè di maiale nel forno per mezz’ora sotto il grill caldissimo; posizionate la carne su di una griglia, appoggiata su una teglia atta a raccogliere il sugo che colerà dall’arrosto durante la cottura; durante questa fase rigirate spesso la carne. Intanto con il fondo di cottura della carne cucinata nel latte, preparate un sughetto di accompagnamento, facendolo rapprendere mischiandolo con un pezzetto di burro, un cucchiaino raso di farina , e aggiustandolo di sale (se al contrario il fondo di cottura risultasse troppo denso, aggiungete un po’ di latte per renderlo più fluido). Se il fondo dovesse risultare raggrumato, mettetelo nel mixer per qualche minuto, e otterrete una crema liscia. A questo punto, mondate l’ananas, fatelo a pezzetti togliendo la parte legnosa centrale, e fatelo saltare in una padella con 20 gr di burro; lo stesso fate con il mais preventivamente scolato della propria acqua. Unite i due contorni. Passata la mezz’ora, togliete il carrè di maiale dal forno, tagliatelo a fettine e disponetelo su di un piatto da portata, accompagnato dall’ananas e il mais, ed irroratelo con il sughetto precedentemente preparato. Consiglio Se non vi piace molto il gusto agro-dolce, o volete renderlo meno spiccato, riducete la dose del miele e dello zucchero di canna. Volendo, potete sostituire il carrè di maiale con del girello di vitello o dell’arrosto di tacchino. Se durante la cottura in forno volete evitare fumo e eccessivi odori, versate nella teglia posta sotto all'arrosto un bicchiere o due di acqua. Curiosita' L’ananas, con il suo particolare sapore aspro, si accompagna molto bene alla carne di maiale.\", 'steps': []}\n",
      "Empty steps in italian_N1000 partition {'title': 'Ravioli ris e coi', 'recipe_id': 'Gz_24063', 'raw_text': 'Ingredienti (per la pasta fresca) Farina 00 500 g Uova (medie) 5 cucchiai 5 cucchiaio Per il ripieno Cavolo cappuccio 800 g Sedano 0.5 costa Cipolle bianche 1 Carote medie 3 Latte intero 700 ml Riso Carnaroli 400 g Presentazione Una ricetta piemontese , direttamente raccontata da L\\'Escola e Lou Mulin, nel cuore delle langhe: sono i ravioli ris e coi (riso e cavoli). Una prelibatezza di primo piatto genuino fatto in casa da gustare semplicemente con del burro fuso, saltati in padella. Queste \"raviole\" si preparano con una base di pasta fresca a cui si aggiunge l\\'olio extravergine d\\'oliva: un involucro sottile che abbraccia il ripieno di riso cotto nel latte e cavolo cappuccio. Una ricetta tramandata da generazioni, la semplicità raccontata attraverso uno scrigno di pasta fresca. Questi ravioli sono anche la \"risposta\" di magro ai ravioli del plin , sempre tipici piemontesi, che sono invece ripieni di carne. Scoprite la loro bontà mettendo le mani in pasta insieme a noi! Scoprite altri scrigni di pasta fresca: Ravioli ricotta e spinaci Ravioli di ricotta Ravioli alla valtellinese \\xa0 Preparazione Per preparare i ravioli riso e coj, iniziate versando la farina sul piano da lavoro, create la fontata, quindi al centro versate le uova e iniziate a di impastare. Proseguite unendo l\\'olio e continuate a lavorare con le mani. Dovrete formare un panettto liscio ed elastico. Una volta pronto, formate una palla, coprite con canovaccio umido e lasciate riposare per 30 minuti. Realizzate un trito finissimo di sedano, carota e cipolla (meglio ancora se utilizzate un mizer), fate rosolare qualche minuto in padella con un filo d\\'olio mescolando di tanto in tanto. Tritate altrettanto finemente anche il cavolo cappuccio e aggiungetelo in padella. Mescolate di tanto in tanto e fate cuocere per 10 minuti. Unite circa 200 ml di latte dalla dose totale, mescolate e poi coprite con il coperchio, fate cuocere per circa 1 ora. In una pentola capiente versate l\\'acqua, salata a piacere, unite anche 500 ml di latte e portate a bollore. Lessate il riso per 18-20 minuti da quando riprende il bollore (controllare cottura, poi scolate e lasciate raffreddare). Una volta che la pasta è riposata, potete dividerla in 2 parti, per passare un pezzo alla volta nella macchina tirapasta e realizzare una striscia di sfoglia sottilissima. Unite il riso freddo e il cavolo cotto e raffreddato a sua volta e con il ripieno realizzaste dei mucchietti distanti 3-4 cm gli uni dagli altri. Spennellate la sfoglia dove non c\\'è il ripieno con dell\\'acqua, in modo che si attacchi più facilmente la sfoglia che andrete a posizionare a chiusura, sempre molto sottile. Pressate con delicatezza nei punti dove non c\\'è il ripieno con le dita, prima di passare la rondella dentellata taglia pasta e ottenere i vostri ravioli dalla forma quadrata, piuttosto grandi. Potete cuocerli per circa 90 secondi in acqua bollente salata a piacere quindi potete ripassarli in padella con burro fuso, sciolto fino a farlo diventare nocciola! Buon appetito! Conservazione I ravioli si possono congelare, distanziati su un vassoio e non appena saranno induriti si possono trasferire in un sacchetto. Saranno da cuocere congelati, per 3-4 minuti in acqua bollente. \\xa0 Consiglio Gli scarti si possono impastare di nuovo oppure si possono cuocere come maltagliati! Si può usare olio di mais al posto di quello di oliva per l\\'impasto. Vi piace la cucina piemontese? Provate la ricetta dei tajarin 30 tuorli al ragù di salsiccia ! L\\'Escola e Lou Mulin Circondato dal verde in un piccolo borgo montano, è il luogo perfetto per un soggiorno tranquillo e rilassante, lontani dalla vita frenetica della città. La vecchia scuola elementare è stata ristrutturata e trasformata nel ristorante dell’agriturismo. All’interno dell’edificio si possono ancora trovare alcuni oggetti della vecchia scuola. La cucina offre piatti della tradizione utilizzando le materie prime provenienti dal nostro orto e da altre piccole aziende agricole del territorio. L’antico mulino ospita al suo interno due camere, una era volta utilizzato per la macina della segale. Oggi è ancora possibile ammirare i vecchi ingranaggi della macina posti sotto al pavimento in vetro', 'steps': []}\n",
      "Empty steps in italian_N1000 partition {'title': 'Risotto alla pescatora saporito', 'recipe_id': 'Gz_27058', 'raw_text': \"Ingredienti Riso Carnaroli 320 g Cozze pulite 500 g Vongole pulite 500 g Calamari 250 g Seppie pulite 250 g Gamberi puliti 200 g Brodo di pesce 1 l Sale fino q.b. Vino bianco 1 bicchiere Olio extravergine d'oliva q.b. Prezzemolo q.b. Maggiorana 30 g Pomodori secchi sott'olio 200 g Scorza di limone 1 Burro 100 g Parmigiano Reggiano DOP 80 g Aglio 1 spicchio Pepe nero q.b. Presentazione Il risotto alla pescatora saporito è un primo piatto che evoca le delizie del mare in ogni boccone e fa onore alla tradizione culinaria italiana. La sua combinazione di riso cremoso e frutti di mare freschi crea un'armonia di sapori che cattura l'essenza della cucina marinara.\\xa0Questo risotto , ricco e appetitoso, è la ricetta ideale per i giorni\\xa0di festa, in particolare per la Vigilia di Natale , quando le famiglie italiane si riuniscono per condividere i piaceri del cibo e celebrare insieme. Scoprite qui tutti i segreti e i trucchi culinari per preparare a casa vostra uno speciale risotto alla pescatora realizzato ad opera d'arte! Preparazione Per preparare il risotto alla pescatora mettete in padella vongole e cozze con un filo d'olio e uno spicchio d'aglio, coprite con un coperchio, lasciatele aprire per un paio di minuti a fuoco vivace. Sgusciatene metà e conservate l'altra metà col guscio nella loro acqua di cottura.\\xa0 In una padella versate un giro d'olio e uno spicchio d'aglio,\\xa0di prima,\\xa0 fate rosolare qui seppie e calamari per circa un minuto a fiamma alta, infine condite con sale e pepe. Tostate il riso a secco, sfumate col vino bianco, aggiungete mano a mano il brodo di pesce fino a terminare quasi la cottura.\\xa0Aggiungete\\xa0tutti i pesci tranne quelli con il guscio, mescolate, spegnete il fuoco, quindi mantecate prima il burro e poi con il Parmigiano Reggiano. Servite il riso aggiungendo maggiorana, del prezzemolo, la scorza di limone e i pomodorini secchi sott’olio tagliati a pezzetti. Guarnite con cozze e vongole con il guscio. Conservazione Consigliamo di consumare subito il risotto alla pescatora saporito. Consiglio Per pulire vongole e cozze procedete cosi: mettete le vongole e le cozze rispettivamente in due ciotole con acqua fredda e 33 di sale per litro, lasciatele spurgare per almeno 1 ora. Successivamente pulite le cozze con una spugnetta abrasiva rimuovendo il bisso, se presente nelle cozze.\", 'steps': []}\n",
      "Empty steps in italian_N1000 partition {'title': 'Lumache alla calabrese', 'recipe_id': 'Gz_357', 'raw_text': \"Ingredienti Lumache sgusciate e pulite 800 g Concentrato di pomodoro 100 g Origano 1 cucchiaio cucchiai 4 cucchiaio Cipolle 300 g Sale fino q.b. Peperoncino in polvere q.b. Presentazione Le lumache alla calabrese, secondo piatto molto saporito, sono da gustare prevalentemente nei mesi autunnali-invernali. In Calabria, le lumache si assaporano dopo le prime pioggie autunnali, quando escono dalla terra e sono pronte per essere raccolte dai numerosi cercatori. Per velocizzare la realizzazione di questa ricetta vi conviene comprare lumache senza guscio e già pulite, in modo da potervi evitare la lunga e noiosa operazione di pulizia. Scoprite anche la ricetta delle lumache di mare in umido ! Preparazione Tritate la cipolla e mettetela a dorare in una pentola con 4 cucchiai di olio. Quando la cipolla sarà dorata, aggiungete le lumache, e fatele rosolare per un minuto, poi aggiungete dell’acqua calda fino a coprirle, un po' di sale (o, per dare maggiore sapore, un dado di carne), e fatele cuocere per almeno 45 minuti a fuoco basso, coprendo la pentola con un coperchio (aggiungete eventualmente dell’acqua calda, se necessita, fino al termine della cottura). Quando le lumache saranno abbastanza asciutte, aggiungete il peperoncino in polvere e il concentrato di pomodoro: lasciate rosolare le lumache fino a che il concentrato sia ben amalgamato, poi aggiustate di sale, spegnete il fuoco e aggiungete un filo di olio di oliva crudo e l’origano ridotto in polvere sottile; servite in piatti fondi o pirofiline monoporzione, accompagnati da fette di pane casereccio. Curiosità In Calabria, le lumache tipiche, sono quelle medio-piccole, dette anche “cozze di terra”, ed hanno un gusto molto delicato.\", 'steps': []}\n"
     ]
    }
   ],
   "source": [
    "for name, partition in dataset.items():\n",
    "    for el in partition:\n",
    "        if len(el[\"steps\"]) == 0:\n",
    "            print(f\"Empty steps in {name} partition\", el)\n",
    "            "
   ]
  }
 ],
 "metadata": {
  "kernelspec": {
   "display_name": "venv",
   "language": "python",
   "name": "python3"
  },
  "language_info": {
   "codemirror_mode": {
    "name": "ipython",
    "version": 3
   },
   "file_extension": ".py",
   "mimetype": "text/x-python",
   "name": "python",
   "nbconvert_exporter": "python",
   "pygments_lexer": "ipython3",
   "version": "3.9.6"
  }
 },
 "nbformat": 4,
 "nbformat_minor": 2
}
